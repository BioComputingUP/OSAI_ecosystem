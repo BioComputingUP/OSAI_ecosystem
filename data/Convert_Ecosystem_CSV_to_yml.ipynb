{
  "nbformat": 4,
  "nbformat_minor": 0,
  "metadata": {
    "colab": {
      "provenance": []
    },
    "kernelspec": {
      "name": "python3",
      "display_name": "Python 3"
    },
    "language_info": {
      "name": "python"
    }
  },
  "cells": [
    {
      "cell_type": "code",
      "execution_count": 1,
      "metadata": {
        "colab": {
          "base_uri": "https://localhost:8080/"
        },
        "id": "hm333GWS2ADL",
        "outputId": "2af1688a-1551-4e68-c976-4b80fbd0bac5"
      },
      "outputs": [
        {
          "output_type": "stream",
          "name": "stdout",
          "text": [
            "Successfully converted CSV to YAML: ecosystem_components_list.yml\n"
          ]
        }
      ],
      "source": [
        "#Converts starting human readable collaborative file into .yml for collaborative git based future curation\n",
        "import csv\n",
        "import yaml\n",
        "\n",
        "csv_filename = 'AI_Ecosystem_Tracker_v0.1_20250505.csv'\n",
        "yaml_filename = 'ecosystem_components_list.yml'\n",
        "\n",
        "data_for_yaml = []\n",
        "\n",
        "try:\n",
        "    with open(csv_filename, mode='r', encoding='utf-8') as infile:\n",
        "        reader = csv.DictReader(infile)\n",
        "        for row in reader:\n",
        "            # Basic check to skip potentially empty rows (adjust if needed)\n",
        "            if not row.get('Name'): # Use .get() for safety if header *might* be missing\n",
        "                continue\n",
        "\n",
        "            resource_data = {\n",
        "                'description': row.get('Description', ''), # Use .get() with default ''\n",
        "                'id': '', # No source column identified\n",
        "                'name': row.get('Name', ''),\n",
        "                'url': row.get('URL', ''),\n",
        "                'biotools-url': row.get('bio.tools URL', ''),\n",
        "                'fairsharing-url': row.get('FAIRsharing URL', ''),\n",
        "                'osai-recommendation': row.get('Recommendation Mappings', ''),\n",
        "                'osai-explanation': row.get('Explanation of Mapping', '')\n",
        "            }\n",
        "            data_for_yaml.append(resource_data)\n",
        "\n",
        "except FileNotFoundError:\n",
        "    print(f\"Error: CSV file not found at {csv_filename}\")\n",
        "    exit()\n",
        "except Exception as e:\n",
        "    print(f\"An error occurred while reading the CSV: {e}\")\n",
        "    exit()\n",
        "\n",
        "try:\n",
        "    with open(yaml_filename, mode='w', encoding='utf-8') as outfile:\n",
        "        yaml.dump(data_for_yaml, outfile,\n",
        "                  indent=2,\n",
        "                  allow_unicode=True,\n",
        "                  sort_keys=False,\n",
        "                  default_flow_style=False)\n",
        "    print(f\"Successfully converted CSV to YAML: {yaml_filename}\")\n",
        "\n",
        "except Exception as e:\n",
        "    print(f\"An error occurred while writing the YAML file: {e}\")"
      ]
    }
  ]
}