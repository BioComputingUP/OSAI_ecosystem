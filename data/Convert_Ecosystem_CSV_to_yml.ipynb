#Converts starting human readable collaborative file into .yml for collaborative git based future curation
import csv
import yaml

csv_filename = 'AI_Ecosystem_Tracker_v0.1_20250505.csv'
yaml_filename = 'ecosystem_components_list.yml'

data_for_yaml = []

try:
    with open(csv_filename, mode='r', encoding='utf-8') as infile:
        reader = csv.DictReader(infile)
        for row in reader:
            # Basic check to skip potentially empty rows (adjust if needed)
            if not row.get('Name'): # Use .get() for safety if header *might* be missing
                continue

            resource_data = {
                'description': row.get('Description', ''), # Use .get() with default ''
                'id': '', # No source column identified
                'name': row.get('Name', ''),
                'url': row.get('URL', ''),
                'biotools-url': row.get('bio.tools URL', ''),
                'fairsharing-url': row.get('FAIRsharing URL', ''),
                'osai-recommendation': row.get('Recommendation Mappings', ''),
                'osai-explanation': row.get('Explanation of Mapping', '')
            }
            data_for_yaml.append(resource_data)

except FileNotFoundError:
    print(f"Error: CSV file not found at {csv_filename}")
    exit()
except Exception as e:
    print(f"An error occurred while reading the CSV: {e}")
    exit()

try:
    with open(yaml_filename, mode='w', encoding='utf-8') as outfile:
        yaml.dump(data_for_yaml, outfile,
                  indent=2,
                  allow_unicode=True,
                  sort_keys=False,
                  default_flow_style=False)
    print(f"Successfully converted CSV to YAML: {yaml_filename}")

except Exception as e:
    print(f"An error occurred while writing the YAML file: {e}")
